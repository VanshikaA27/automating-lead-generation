{
 "cells": [
  {
   "cell_type": "code",
   "execution_count": 31,
   "id": "b4298209",
   "metadata": {},
   "outputs": [],
   "source": [
    "import os\n",
    "import smtplib\n",
    "from email.message import EmailMessage\n",
    "from email.utils import formataddr\n",
    "from pathlib import Path\n",
    "\n",
    "from dotenv import load_dotenv  # pip install python-dotenv\n",
    "\n",
    "PORT = 587  \n",
    "EMAIL_SERVER = \"smtp-mail.outlook.com\"  # Adjust server address, if you are not using @outlook\n",
    "\n",
    "# Load the environment variables\n",
    "current_dir = Path(__file__).resolve().parent if \"__file__\" in locals() else Path.cwd()\n",
    "envars = current_dir / \".env\"\n",
    "load_dotenv(envars)\n",
    "\n",
    "\n",
    "\n",
    "\n",
    "\n"
   ]
  },
  {
   "cell_type": "code",
   "execution_count": 40,
   "id": "23d713b6",
   "metadata": {},
   "outputs": [],
   "source": [
    "def send_email(subject, receiver_email, name, due_date, invoice_no, amount):\n",
    "    # Create the base text message.\n",
    "    msg = EmailMessage()\n",
    "    msg[\"Subject\"] = \"hello\"\n",
    "    msg[\"From\"] = formataddr((\"Test Email\", f\"{sender_email}\"))\n",
    "    msg[\"To\"] = receiver_email\n",
    "    msg[\"BCC\"] = sender_email\n",
    "\n",
    "    msg.set_content(\n",
    "        f\"\"\"\\\n",
    "        Hi {name},\n",
    "        I hope you are well.\n",
    "        I just wanted to drop you a quick note to remind you that {amount} USD in respect of our invoice {invoice_no} is due for payment on {due_date}.\n",
    "        I would be really grateful if you could confirm that everything is on track for payment.\n",
    "        Best regards\n",
    "        YOUR NAME\n",
    "        \"\"\"\n",
    "    )\n",
    "    # Add the html version.  This converts the message into a multipart/alternative\n",
    "    # container, with the original text message as the first part and the new html\n",
    "    # message as the second part.\n",
    "    msg.add_alternative(\n",
    "        f\"\"\"\\\n",
    "    <html>\n",
    "      <body>\n",
    "        <p>Hi {name},</p>\n",
    "        <p>I hope you are well.</p>\n",
    "        <p>I just wanted to drop you a quick note to remind you that <strong>{amount} USD</strong> in respect of our invoice {invoice_no} is due for payment on <strong>{due_date}</strong>.</p>\n",
    "        <p>I would be really grateful if you could confirm that everything is on track for payment.</p>\n",
    "        <p>Best regards</p>\n",
    "        <p>YOUR NAME</p>\n",
    "      </body>\n",
    "    </html>\n",
    "    \"\"\",\n",
    "        subtype=\"html\",\n",
    "    )\n",
    "\n",
    "    with smtplib.SMTP(EMAIL_SERVER, PORT) as server:\n",
    "        server.starttls()\n",
    "        server.login(sender_email, password_email)\n",
    "        server.sendmail(sender_email, receiver_email, msg.as_string())\n",
    "\n",
    "\n"
   ]
  },
  {
   "cell_type": "code",
   "execution_count": 41,
   "id": "eae96871",
   "metadata": {},
   "outputs": [],
   "source": [
    "send_email(\n",
    "        subject=\"Invoice Reminder\",\n",
    "        name=\"John Doe\",\n",
    "        receiver_email=\"ahujavanshika905@gmail.com\",\n",
    "        due_date=\"11, Aug 2022\",\n",
    "        invoice_no=\"INV-21-12-009\",\n",
    "        amount=\"5\",\n",
    "    )"
   ]
  },
  {
   "cell_type": "code",
   "execution_count": null,
   "id": "95c2ab73",
   "metadata": {},
   "outputs": [],
   "source": []
  },
  {
   "cell_type": "code",
   "execution_count": null,
   "id": "7204335f",
   "metadata": {},
   "outputs": [],
   "source": []
  }
 ],
 "metadata": {
  "kernelspec": {
   "display_name": "Python 3 (ipykernel)",
   "language": "python",
   "name": "python3"
  },
  "language_info": {
   "codemirror_mode": {
    "name": "ipython",
    "version": 3
   },
   "file_extension": ".py",
   "mimetype": "text/x-python",
   "name": "python",
   "nbconvert_exporter": "python",
   "pygments_lexer": "ipython3",
   "version": "3.9.13"
  }
 },
 "nbformat": 4,
 "nbformat_minor": 5
}
